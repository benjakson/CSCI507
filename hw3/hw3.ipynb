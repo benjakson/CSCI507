{
 "cells": [
  {
   "cell_type": "markdown",
   "metadata": {},
   "source": [
    "**Problem 1: Coordinate transformation:**  \n",
    "- 2D transformation: Compute the coordinate of a 2D point p = (10, 20)T using a transformation of \n",
    "45 degrees about the x-axis, and a translation of t = (40, -30)T.  Answer/explain the following: \n",
    "  - What is the point representation in homogeneous coordinates? \n",
    "  - What is the rotation matrix 𝑅𝑅? \n",
    "  - What is the translation vector 𝑡𝑡? \n",
    "  - What is the full transformation matrix (consisting of 𝑅𝑅, 𝑡𝑡) that can be used to transform \n",
    "the homogeneous point coordinate?  \n",
    "  - How do we apply this transformation to the point (in homogeneous coordinate form)? \n",
    "  - What is the coordinate of the transformed point, in homogeneous coordinates, and in \n",
    "the cartesian coordinates? \n",
    "- 3D transformation: A camera is located at point (0,-5,3) in the world frame.  The camera is tilted \n",
    "down by 30 degrees from the horizontal.  We want to find the 4x4 homogeneous \n",
    "transformation 𝐻𝐻𝑊𝑊 𝐶𝐶  from the world frame {W} to camera frame {C}. Note that in “the world” Z \n",
    "is up (X-Y ground plane) but in “the camera”, Z is out (X-Y image plane).   \n",
    " Answer/explain the following: \n",
    "  - What is 𝐻𝐻𝑊𝑊 𝐶𝐶 ? Explain how you computed it.\n",
    " \n",
    "- Using transformation 𝐻𝐻𝑊𝑊 𝐶𝐶 , transform the point  𝑝𝑝 𝑊𝑊 =   (0,0,1) in the world frame to the \n",
    "camera frame. Hint: use the homogeneous coordinates of the point for this \n",
    "transformation. \n",
    "Notes:  \n",
    "  - If you are not familiar with coordinate transformations, please take a look at the notes \n",
    "“Coordinate_Transforms.pdf” in the HW3 folder of course materials. "
   ]
  },
  {
   "cell_type": "code",
   "execution_count": 1,
   "metadata": {},
   "outputs": [
    {
     "name": "stdout",
     "output_type": "stream",
     "text": [
      "Transformed point (homogeneous): [32.92893219 -8.78679656  1.        ]\n",
      "Transformed point (cartesian): [32.92893219 -8.78679656]\n"
     ]
    }
   ],
   "source": [
    "import numpy as np\n",
    "\n",
    "# Point in homogeneous coordinates\n",
    "p_h = np.array([10, 20, 1])\n",
    "\n",
    "# Rotation matrix for 45 degrees\n",
    "theta = np.deg2rad(45)\n",
    "R = np.array([\n",
    "    [np.cos(theta), -np.sin(theta)],\n",
    "    [np.sin(theta), np.cos(theta)]\n",
    "])\n",
    "\n",
    "# Translation vector\n",
    "t = np.array([40, -30])\n",
    "\n",
    "# Full transformation matrix in homogeneous coordinates\n",
    "T = np.array([\n",
    "    [R[0, 0], R[0, 1], t[0]],\n",
    "    [R[1, 0], R[1, 1], t[1]],\n",
    "    [0, 0, 1]\n",
    "])\n",
    "\n",
    "# Apply transformation\n",
    "p_h_transformed = T @ p_h\n",
    "\n",
    "# Extract Cartesian coordinates from homogeneous\n",
    "p_cartesian = p_h_transformed[:2]\n",
    "\n",
    "print(\"Transformed point (homogeneous):\", p_h_transformed)\n",
    "print(\"Transformed point (cartesian):\", p_cartesian)\n"
   ]
  },
  {
   "cell_type": "code",
   "execution_count": null,
   "metadata": {},
   "outputs": [],
   "source": []
  }
 ],
 "metadata": {
  "kernelspec": {
   "display_name": "cv",
   "language": "python",
   "name": "python3"
  },
  "language_info": {
   "codemirror_mode": {
    "name": "ipython",
    "version": 3
   },
   "file_extension": ".py",
   "mimetype": "text/x-python",
   "name": "python",
   "nbconvert_exporter": "python",
   "pygments_lexer": "ipython3",
   "version": "3.9.19"
  }
 },
 "nbformat": 4,
 "nbformat_minor": 2
}
